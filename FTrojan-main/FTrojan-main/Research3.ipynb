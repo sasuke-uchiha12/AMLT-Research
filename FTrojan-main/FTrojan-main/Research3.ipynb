{
  "nbformat": 4,
  "nbformat_minor": 0,
  "metadata": {
    "colab": {
      "provenance": []
    },
    "kernelspec": {
      "name": "python3",
      "display_name": "Python 3"
    },
    "language_info": {
      "name": "python"
    }
  },
  "cells": [
    {
      "cell_type": "code",
      "execution_count": null,
      "metadata": {
        "colab": {
          "base_uri": "https://localhost:8080/"
        },
        "id": "t1FGQbiBM7E7",
        "outputId": "75de4437-5e48-4b08-da7a-dfc2f83de3f2"
      },
      "outputs": [
        {
          "output_type": "stream",
          "name": "stdout",
          "text": [
            "Mounted at /content/drive\n"
          ]
        }
      ],
      "source": [
        "# prompt: drive mount\n",
        "\n",
        "from google.colab import drive\n",
        "drive.mount('/content/drive')\n"
      ]
    },
    {
      "cell_type": "code",
      "source": [
        "%cd /content/drive/MyDrive/aiml-project/project_work"
      ],
      "metadata": {
        "colab": {
          "base_uri": "https://localhost:8080/"
        },
        "id": "KdVgueGFNYn-",
        "outputId": "9da91d41-c732-4dc7-90d8-b087848bc38d"
      },
      "execution_count": null,
      "outputs": [
        {
          "output_type": "stream",
          "name": "stdout",
          "text": [
            "/content/drive/MyDrive/aiml-project/project_work\n"
          ]
        }
      ]
    },
    {
      "cell_type": "code",
      "source": [
        "%ls"
      ],
      "metadata": {
        "colab": {
          "base_uri": "https://localhost:8080/"
        },
        "id": "j5swuRgiNadh",
        "outputId": "6a21908e-04e0-4dba-93f2-f2e8e9ed6858"
      },
      "execution_count": null,
      "outputs": [
        {
          "output_type": "stream",
          "name": "stdout",
          "text": [
            "4333.mp4  data.py   LICENSE  model.py    readme.md    train.py\n",
            "\u001b[0m\u001b[01;34mdata\u001b[0m/     image.py  \u001b[01;34mmodel\u001b[0m/   Poster.pdf  th_train.py\n"
          ]
        }
      ]
    },
    {
      "cell_type": "code",
      "source": [
        "%cd FTrojan-main"
      ],
      "metadata": {
        "colab": {
          "base_uri": "https://localhost:8080/"
        },
        "id": "0-VdIU4LNc2T",
        "outputId": "f8a435c2-ed31-4aa8-b44b-db4ec43d8802"
      },
      "execution_count": null,
      "outputs": [
        {
          "output_type": "stream",
          "name": "stdout",
          "text": [
            "[Errno 2] No such file or directory: 'FTrojan-main'\n",
            "/content/drive/MyDrive/aiml-project/project_work/FTrojan-main\n"
          ]
        }
      ]
    },
    {
      "cell_type": "code",
      "source": [
        "# Extract all compressed files in the data directory\n",
        "import glob\n",
        "compressed_files = glob.glob('data/.zip') + glob.glob('data/.tar.gz')\n",
        "\n",
        "for file in compressed_files:\n",
        "    if file.endswith('.zip'):\n",
        "        !unzip -o {file} -d data/\n",
        "    elif file.endswith('.tar.gz'):\n",
        "        !tar -xvzf {file} -C data/"
      ],
      "metadata": {
        "id": "X_k991hVTzyG"
      },
      "execution_count": null,
      "outputs": []
    },
    {
      "cell_type": "code",
      "source": [
        "# Load CIFAR-10 using TensorFlow\n",
        "from tensorflow.keras.datasets import cifar10\n",
        "import numpy as np\n",
        "import os\n",
        "\n",
        "# Load training and test data\n",
        "(x_train, y_train), (x_test, y_test) = cifar10.load_data()\n",
        "\n",
        "# Save data locally (optional, to use with other scripts)\n",
        "np.savez_compressed('data/cifar10_train', x_train=x_train, y_train=y_train)\n",
        "np.savez_compressed('data/cifar10_test', x_test=x_test, y_test=y_test)\n",
        "\n",
        "print(f'CIFAR-10 data saved to \"data\" directory.')\n",
        "\n",
        "from torchvision import datasets, transforms\n",
        "\n",
        "# Download CIFAR-10 if necessary\n",
        "datasets.CIFAR10(root='data', train=True, download=True)\n",
        "datasets.CIFAR10(root='data', train=False, download=True)"
      ],
      "metadata": {
        "colab": {
          "base_uri": "https://localhost:8080/"
        },
        "id": "1OPaIt40T37a",
        "outputId": "4387ad25-478b-470f-a3e2-097c1a2a5970"
      },
      "execution_count": null,
      "outputs": [
        {
          "output_type": "stream",
          "name": "stdout",
          "text": [
            "Downloading data from https://www.cs.toronto.edu/~kriz/cifar-10-python.tar.gz\n",
            "\u001b[1m170498071/170498071\u001b[0m \u001b[32m━━━━━━━━━━━━━━━━━━━━\u001b[0m\u001b[37m\u001b[0m \u001b[1m6s\u001b[0m 0us/step\n",
            "CIFAR-10 data saved to \"data\" directory.\n",
            "Downloading https://www.cs.toronto.edu/~kriz/cifar-10-python.tar.gz to data/cifar-10-python.tar.gz\n"
          ]
        },
        {
          "output_type": "stream",
          "name": "stderr",
          "text": [
            "100%|██████████| 170M/170M [00:02<00:00, 69.3MB/s]\n"
          ]
        },
        {
          "output_type": "stream",
          "name": "stdout",
          "text": [
            "Extracting data/cifar-10-python.tar.gz to data\n",
            "Files already downloaded and verified\n"
          ]
        },
        {
          "output_type": "execute_result",
          "data": {
            "text/plain": [
              "Dataset CIFAR10\n",
              "    Number of datapoints: 10000\n",
              "    Root location: data\n",
              "    Split: Test"
            ]
          },
          "metadata": {},
          "execution_count": 24
        }
      ]
    },
    {
      "cell_type": "code",
      "source": [
        "!python train.py"
      ],
      "metadata": {
        "colab": {
          "base_uri": "https://localhost:8080/"
        },
        "id": "cJVYNixlOOZJ",
        "outputId": "a4f06180-d146-425f-f085-d0d746d6bb82"
      },
      "execution_count": null,
      "outputs": [
        {
          "output_type": "stream",
          "name": "stdout",
          "text": [
            "2024-11-25 17:14:36.729593: E external/local_xla/xla/stream_executor/cuda/cuda_fft.cc:485] Unable to register cuFFT factory: Attempting to register factory for plugin cuFFT when one has already been registered\n",
            "2024-11-25 17:14:36.763521: E external/local_xla/xla/stream_executor/cuda/cuda_dnn.cc:8454] Unable to register cuDNN factory: Attempting to register factory for plugin cuDNN when one has already been registered\n",
            "2024-11-25 17:14:36.772917: E external/local_xla/xla/stream_executor/cuda/cuda_blas.cc:1452] Unable to register cuBLAS factory: Attempting to register factory for plugin cuBLAS when one has already been registered\n",
            "2024-11-25 17:14:38.498244: W tensorflow/compiler/tf2tensorrt/utils/py_utils.cc:38] TF-TRT Warning: Could not find TensorRT\n",
            "2024-11-25 17:14:50.931375: W external/local_tsl/tsl/framework/cpu_allocator_impl.cc:83] Allocation of 614400000 exceeds 10% of free system memory.\n",
            "Epoch 1/50\n",
            "\u001b[1m1561/1562\u001b[0m \u001b[32m━━━━━━━━━━━━━━━━━━━\u001b[0m\u001b[37m━\u001b[0m \u001b[1m0s\u001b[0m 69ms/step - accuracy: 0.3666 - loss: 1.7779\n",
            "Epoch 1: val_accuracy improved from -inf to 0.57840, saving model to model/4fb5ed85e0365ecb77844c076e465ca8.keras\n",
            "\u001b[1m1562/1562\u001b[0m \u001b[32m━━━━━━━━━━━━━━━━━━━━\u001b[0m\u001b[37m\u001b[0m \u001b[1m116s\u001b[0m 73ms/step - accuracy: 0.3667 - loss: 1.7777 - val_accuracy: 0.5784 - val_loss: 1.2283 - learning_rate: 0.0010\n",
            "Epoch 2/50\n",
            "\u001b[1m   1/1562\u001b[0m \u001b[37m━━━━━━━━━━━━━━━━━━━━\u001b[0m \u001b[1m1:16\u001b[0m 49ms/step - accuracy: 0.5000 - loss: 1.4928/usr/lib/python3.10/contextlib.py:153: UserWarning: Your input ran out of data; interrupting training. Make sure that your dataset or generator can generate at least `steps_per_epoch * epochs` batches. You may need to use the `.repeat()` function when building your dataset.\n",
            "  self.gen.throw(typ, value, traceback)\n",
            "\n",
            "Epoch 2: val_accuracy did not improve from 0.57840\n",
            "\u001b[1m1562/1562\u001b[0m \u001b[32m━━━━━━━━━━━━━━━━━━━━\u001b[0m\u001b[37m\u001b[0m \u001b[1m10s\u001b[0m 7ms/step - accuracy: 0.5000 - loss: 1.4928 - val_accuracy: 0.5540 - val_loss: 1.2700 - learning_rate: 0.0010\n",
            "Epoch 3/50\n",
            "\u001b[1m1562/1562\u001b[0m \u001b[32m━━━━━━━━━━━━━━━━━━━━\u001b[0m\u001b[37m\u001b[0m \u001b[1m0s\u001b[0m 65ms/step - accuracy: 0.5920 - loss: 1.2084\n",
            "Epoch 3: val_accuracy improved from 0.57840 to 0.65290, saving model to model/4fb5ed85e0365ecb77844c076e465ca8.keras\n",
            "\u001b[1m1562/1562\u001b[0m \u001b[32m━━━━━━━━━━━━━━━━━━━━\u001b[0m\u001b[37m\u001b[0m \u001b[1m126s\u001b[0m 70ms/step - accuracy: 0.5920 - loss: 1.2083 - val_accuracy: 0.6529 - val_loss: 1.0542 - learning_rate: 0.0010\n",
            "Epoch 4/50\n",
            "\u001b[1m   1/1562\u001b[0m \u001b[37m━━━━━━━━━━━━━━━━━━━━\u001b[0m \u001b[1m1:12\u001b[0m 47ms/step - accuracy: 0.7500 - loss: 1.0012\n",
            "Epoch 4: val_accuracy did not improve from 0.65290\n",
            "\u001b[1m1562/1562\u001b[0m \u001b[32m━━━━━━━━━━━━━━━━━━━━\u001b[0m\u001b[37m\u001b[0m \u001b[1m5s\u001b[0m 3ms/step - accuracy: 0.7500 - loss: 1.0012 - val_accuracy: 0.6341 - val_loss: 1.0829 - learning_rate: 0.0010\n",
            "Epoch 5/50\n",
            "\u001b[1m1562/1562\u001b[0m \u001b[32m━━━━━━━━━━━━━━━━━━━━\u001b[0m\u001b[37m\u001b[0m \u001b[1m0s\u001b[0m 63ms/step - accuracy: 0.6589 - loss: 1.0401\n",
            "Epoch 5: val_accuracy improved from 0.65290 to 0.67490, saving model to model/4fb5ed85e0365ecb77844c076e465ca8.keras\n",
            "\u001b[1m1562/1562\u001b[0m \u001b[32m━━━━━━━━━━━━━━━━━━━━\u001b[0m\u001b[37m\u001b[0m \u001b[1m132s\u001b[0m 66ms/step - accuracy: 0.6589 - loss: 1.0401 - val_accuracy: 0.6749 - val_loss: 0.9744 - learning_rate: 0.0010\n",
            "Epoch 6/50\n",
            "\u001b[1m   1/1562\u001b[0m \u001b[37m━━━━━━━━━━━━━━━━━━━━\u001b[0m \u001b[1m42s\u001b[0m 27ms/step - accuracy: 0.8125 - loss: 0.6423\n",
            "Epoch 6: val_accuracy did not improve from 0.67490\n",
            "\u001b[1m1562/1562\u001b[0m \u001b[32m━━━━━━━━━━━━━━━━━━━━\u001b[0m\u001b[37m\u001b[0m \u001b[1m8s\u001b[0m 5ms/step - accuracy: 0.8125 - loss: 0.6423 - val_accuracy: 0.6396 - val_loss: 1.0690 - learning_rate: 0.0010\n",
            "Epoch 7/50\n",
            "\u001b[1m1562/1562\u001b[0m \u001b[32m━━━━━━━━━━━━━━━━━━━━\u001b[0m\u001b[37m\u001b[0m \u001b[1m0s\u001b[0m 62ms/step - accuracy: 0.7027 - loss: 0.9139\n",
            "Epoch 7: val_accuracy improved from 0.67490 to 0.68900, saving model to model/4fb5ed85e0365ecb77844c076e465ca8.keras\n",
            "\u001b[1m1562/1562\u001b[0m \u001b[32m━━━━━━━━━━━━━━━━━━━━\u001b[0m\u001b[37m\u001b[0m \u001b[1m132s\u001b[0m 65ms/step - accuracy: 0.7027 - loss: 0.9139 - val_accuracy: 0.6890 - val_loss: 0.9473 - learning_rate: 0.0010\n",
            "Epoch 8/50\n",
            "\u001b[1m   1/1562\u001b[0m \u001b[37m━━━━━━━━━━━━━━━━━━━━\u001b[0m \u001b[1m42s\u001b[0m 27ms/step - accuracy: 0.8125 - loss: 0.8716\n",
            "Epoch 8: val_accuracy did not improve from 0.68900\n",
            "\u001b[1m1562/1562\u001b[0m \u001b[32m━━━━━━━━━━━━━━━━━━━━\u001b[0m\u001b[37m\u001b[0m \u001b[1m5s\u001b[0m 3ms/step - accuracy: 0.8125 - loss: 0.8716 - val_accuracy: 0.6524 - val_loss: 1.0535 - learning_rate: 0.0010\n",
            "Epoch 9/50\n",
            "\u001b[1m1562/1562\u001b[0m \u001b[32m━━━━━━━━━━━━━━━━━━━━\u001b[0m\u001b[37m\u001b[0m \u001b[1m0s\u001b[0m 63ms/step - accuracy: 0.7375 - loss: 0.8296\n",
            "Epoch 9: val_accuracy improved from 0.68900 to 0.70400, saving model to model/4fb5ed85e0365ecb77844c076e465ca8.keras\n",
            "\u001b[1m1562/1562\u001b[0m \u001b[32m━━━━━━━━━━━━━━━━━━━━\u001b[0m\u001b[37m\u001b[0m \u001b[1m138s\u001b[0m 66ms/step - accuracy: 0.7375 - loss: 0.8296 - val_accuracy: 0.7040 - val_loss: 0.9391 - learning_rate: 0.0010\n",
            "Epoch 10/50\n",
            "\u001b[1m   1/1562\u001b[0m \u001b[37m━━━━━━━━━━━━━━━━━━━━\u001b[0m \u001b[1m50s\u001b[0m 32ms/step - accuracy: 0.6875 - loss: 0.9221\n",
            "Epoch 10: val_accuracy did not improve from 0.70400\n",
            "\u001b[1m1562/1562\u001b[0m \u001b[32m━━━━━━━━━━━━━━━━━━━━\u001b[0m\u001b[37m\u001b[0m \u001b[1m10s\u001b[0m 7ms/step - accuracy: 0.6875 - loss: 0.9221 - val_accuracy: 0.6701 - val_loss: 1.0366 - learning_rate: 0.0010\n",
            "Epoch 11/50\n",
            "\u001b[1m1562/1562\u001b[0m \u001b[32m━━━━━━━━━━━━━━━━━━━━\u001b[0m\u001b[37m\u001b[0m \u001b[1m0s\u001b[0m 63ms/step - accuracy: 0.7671 - loss: 0.7410\n",
            "Epoch 11: val_accuracy did not improve from 0.70400\n",
            "\u001b[1m1562/1562\u001b[0m \u001b[32m━━━━━━━━━━━━━━━━━━━━\u001b[0m\u001b[37m\u001b[0m \u001b[1m132s\u001b[0m 66ms/step - accuracy: 0.7671 - loss: 0.7410 - val_accuracy: 0.7004 - val_loss: 0.9273 - learning_rate: 0.0010\n",
            "Epoch 12/50\n",
            "\u001b[1m   1/1562\u001b[0m \u001b[37m━━━━━━━━━━━━━━━━━━━━\u001b[0m \u001b[1m41s\u001b[0m 27ms/step - accuracy: 0.8125 - loss: 0.4751\n",
            "Epoch 12: val_accuracy did not improve from 0.70400\n",
            "\u001b[1m1562/1562\u001b[0m \u001b[32m━━━━━━━━━━━━━━━━━━━━\u001b[0m\u001b[37m\u001b[0m \u001b[1m10s\u001b[0m 7ms/step - accuracy: 0.8125 - loss: 0.4751 - val_accuracy: 0.6996 - val_loss: 0.9391 - learning_rate: 5.0000e-04\n",
            "Epoch 13/50\n",
            "\u001b[1m1561/1562\u001b[0m \u001b[32m━━━━━━━━━━━━━━━━━━━\u001b[0m\u001b[37m━\u001b[0m \u001b[1m0s\u001b[0m 63ms/step - accuracy: 0.8263 - loss: 0.5782\n",
            "Epoch 13: val_accuracy improved from 0.70400 to 0.71720, saving model to model/4fb5ed85e0365ecb77844c076e465ca8.keras\n",
            "\u001b[1m1562/1562\u001b[0m \u001b[32m━━━━━━━━━━━━━━━━━━━━\u001b[0m\u001b[37m\u001b[0m \u001b[1m132s\u001b[0m 66ms/step - accuracy: 0.8263 - loss: 0.5782 - val_accuracy: 0.7172 - val_loss: 0.9443 - learning_rate: 5.0000e-04\n",
            "Epoch 14/50\n",
            "\u001b[1m   1/1562\u001b[0m \u001b[37m━━━━━━━━━━━━━━━━━━━━\u001b[0m \u001b[1m42s\u001b[0m 27ms/step - accuracy: 0.8750 - loss: 0.4456\n",
            "Epoch 14: val_accuracy improved from 0.71720 to 0.71870, saving model to model/4fb5ed85e0365ecb77844c076e465ca8.keras\n",
            "\u001b[1m1562/1562\u001b[0m \u001b[32m━━━━━━━━━━━━━━━━━━━━\u001b[0m\u001b[37m\u001b[0m \u001b[1m8s\u001b[0m 5ms/step - accuracy: 0.8750 - loss: 0.4456 - val_accuracy: 0.7187 - val_loss: 0.9247 - learning_rate: 5.0000e-04\n",
            "Epoch 15/50\n",
            "\u001b[1m1562/1562\u001b[0m \u001b[32m━━━━━━━━━━━━━━━━━━━━\u001b[0m\u001b[37m\u001b[0m \u001b[1m0s\u001b[0m 63ms/step - accuracy: 0.8488 - loss: 0.5185\n",
            "Epoch 15: val_accuracy did not improve from 0.71870\n",
            "\u001b[1m1562/1562\u001b[0m \u001b[32m━━━━━━━━━━━━━━━━━━━━\u001b[0m\u001b[37m\u001b[0m \u001b[1m103s\u001b[0m 66ms/step - accuracy: 0.8488 - loss: 0.5185 - val_accuracy: 0.7099 - val_loss: 0.9678 - learning_rate: 5.0000e-04\n",
            "Epoch 16/50\n",
            "\u001b[1m   1/1562\u001b[0m \u001b[37m━━━━━━━━━━━━━━━━━━━━\u001b[0m \u001b[1m41s\u001b[0m 27ms/step - accuracy: 0.8125 - loss: 0.4459\n",
            "Epoch 16: val_accuracy did not improve from 0.71870\n",
            "\u001b[1m1562/1562\u001b[0m \u001b[32m━━━━━━━━━━━━━━━━━━━━\u001b[0m\u001b[37m\u001b[0m \u001b[1m5s\u001b[0m 3ms/step - accuracy: 0.8125 - loss: 0.4459 - val_accuracy: 0.6998 - val_loss: 1.0044 - learning_rate: 5.0000e-04\n",
            "Epoch 17/50\n",
            "\u001b[1m1562/1562\u001b[0m \u001b[32m━━━━━━━━━━━━━━━━━━━━\u001b[0m\u001b[37m\u001b[0m \u001b[1m0s\u001b[0m 62ms/step - accuracy: 0.8708 - loss: 0.4555\n",
            "Epoch 17: val_accuracy did not improve from 0.71870\n",
            "\u001b[1m1562/1562\u001b[0m \u001b[32m━━━━━━━━━━━━━━━━━━━━\u001b[0m\u001b[37m\u001b[0m \u001b[1m136s\u001b[0m 65ms/step - accuracy: 0.8708 - loss: 0.4555 - val_accuracy: 0.7092 - val_loss: 1.0531 - learning_rate: 5.0000e-04\n",
            "Epoch 18/50\n",
            "\u001b[1m   1/1562\u001b[0m \u001b[37m━━━━━━━━━━━━━━━━━━━━\u001b[0m \u001b[1m40s\u001b[0m 26ms/step - accuracy: 0.9375 - loss: 0.3296\n",
            "Epoch 18: val_accuracy did not improve from 0.71870\n",
            "\u001b[1m1562/1562\u001b[0m \u001b[32m━━━━━━━━━━━━━━━━━━━━\u001b[0m\u001b[37m\u001b[0m \u001b[1m5s\u001b[0m 3ms/step - accuracy: 0.9375 - loss: 0.3296 - val_accuracy: 0.7156 - val_loss: 1.0202 - learning_rate: 5.0000e-04\n",
            "Epoch 19/50\n",
            "\u001b[1m1562/1562\u001b[0m \u001b[32m━━━━━━━━━━━━━━━━━━━━\u001b[0m\u001b[37m\u001b[0m \u001b[1m0s\u001b[0m 62ms/step - accuracy: 0.8841 - loss: 0.4095\n",
            "Epoch 19: val_accuracy did not improve from 0.71870\n",
            "\u001b[1m1562/1562\u001b[0m \u001b[32m━━━━━━━━━━━━━━━━━━━━\u001b[0m\u001b[37m\u001b[0m \u001b[1m136s\u001b[0m 65ms/step - accuracy: 0.8841 - loss: 0.4095 - val_accuracy: 0.7133 - val_loss: 1.0436 - learning_rate: 5.0000e-04\n",
            "Epoch 20/50\n",
            "\u001b[1m   1/1562\u001b[0m \u001b[37m━━━━━━━━━━━━━━━━━━━━\u001b[0m \u001b[1m40s\u001b[0m 26ms/step - accuracy: 0.7500 - loss: 0.8796\n",
            "Epoch 20: val_accuracy did not improve from 0.71870\n",
            "\u001b[1m1562/1562\u001b[0m \u001b[32m━━━━━━━━━━━━━━━━━━━━\u001b[0m\u001b[37m\u001b[0m \u001b[1m7s\u001b[0m 5ms/step - accuracy: 0.7500 - loss: 0.8796 - val_accuracy: 0.7057 - val_loss: 1.0611 - learning_rate: 5.0000e-04\n",
            "Epoch 21/50\n",
            "\u001b[1m1562/1562\u001b[0m \u001b[32m━━━━━━━━━━━━━━━━━━━━\u001b[0m\u001b[37m\u001b[0m \u001b[1m0s\u001b[0m 62ms/step - accuracy: 0.9026 - loss: 0.3617\n",
            "Epoch 21: val_accuracy did not improve from 0.71870\n",
            "\u001b[1m1562/1562\u001b[0m \u001b[32m━━━━━━━━━━━━━━━━━━━━\u001b[0m\u001b[37m\u001b[0m \u001b[1m134s\u001b[0m 65ms/step - accuracy: 0.9026 - loss: 0.3617 - val_accuracy: 0.7106 - val_loss: 1.0986 - learning_rate: 5.0000e-04\n",
            "Epoch 22/50\n",
            "\u001b[1m   1/1562\u001b[0m \u001b[37m━━━━━━━━━━━━━━━━━━━━\u001b[0m \u001b[1m40s\u001b[0m 26ms/step - accuracy: 0.7500 - loss: 0.5203\n",
            "Epoch 22: val_accuracy did not improve from 0.71870\n",
            "\u001b[1m1562/1562\u001b[0m \u001b[32m━━━━━━━━━━━━━━━━━━━━\u001b[0m\u001b[37m\u001b[0m \u001b[1m7s\u001b[0m 5ms/step - accuracy: 0.7500 - loss: 0.5203 - val_accuracy: 0.7144 - val_loss: 1.1121 - learning_rate: 5.0000e-04\n",
            "Epoch 23/50\n",
            "\u001b[1m1562/1562\u001b[0m \u001b[32m━━━━━━━━━━━━━━━━━━━━\u001b[0m\u001b[37m\u001b[0m \u001b[1m0s\u001b[0m 62ms/step - accuracy: 0.9177 - loss: 0.3156\n",
            "Epoch 23: val_accuracy did not improve from 0.71870\n",
            "\u001b[1m1562/1562\u001b[0m \u001b[32m━━━━━━━━━━━━━━━━━━━━\u001b[0m\u001b[37m\u001b[0m \u001b[1m103s\u001b[0m 66ms/step - accuracy: 0.9177 - loss: 0.3156 - val_accuracy: 0.7060 - val_loss: 1.1856 - learning_rate: 5.0000e-04\n",
            "Epoch 24/50\n",
            "\u001b[1m   1/1562\u001b[0m \u001b[37m━━━━━━━━━━━━━━━━━━━━\u001b[0m \u001b[1m46s\u001b[0m 30ms/step - accuracy: 0.8125 - loss: 0.3823\n",
            "Epoch 24: val_accuracy did not improve from 0.71870\n",
            "\u001b[1m1562/1562\u001b[0m \u001b[32m━━━━━━━━━━━━━━━━━━━━\u001b[0m\u001b[37m\u001b[0m \u001b[1m5s\u001b[0m 3ms/step - accuracy: 0.8125 - loss: 0.3823 - val_accuracy: 0.7017 - val_loss: 1.2137 - learning_rate: 5.0000e-04\n",
            "Epoch 25/50\n",
            "\u001b[1m1562/1562\u001b[0m \u001b[32m━━━━━━━━━━━━━━━━━━━━\u001b[0m\u001b[37m\u001b[0m \u001b[1m0s\u001b[0m 63ms/step - accuracy: 0.9345 - loss: 0.2675\n",
            "Epoch 25: val_accuracy did not improve from 0.71870\n",
            "\u001b[1m1562/1562\u001b[0m \u001b[32m━━━━━━━━━━━━━━━━━━━━\u001b[0m\u001b[37m\u001b[0m \u001b[1m136s\u001b[0m 66ms/step - accuracy: 0.9345 - loss: 0.2675 - val_accuracy: 0.7047 - val_loss: 1.2596 - learning_rate: 5.0000e-04\n",
            "Epoch 26/50\n",
            "\u001b[1m   1/1562\u001b[0m \u001b[37m━━━━━━━━━━━━━━━━━━━━\u001b[0m \u001b[1m40s\u001b[0m 26ms/step - accuracy: 1.0000 - loss: 0.1047\n",
            "Epoch 26: val_accuracy did not improve from 0.71870\n",
            "\u001b[1m1562/1562\u001b[0m \u001b[32m━━━━━━━━━━━━━━━━━━━━\u001b[0m\u001b[37m\u001b[0m \u001b[1m10s\u001b[0m 7ms/step - accuracy: 1.0000 - loss: 0.1047 - val_accuracy: 0.7064 - val_loss: 1.2539 - learning_rate: 5.0000e-04\n",
            "Epoch 27/50\n",
            "\u001b[1m1562/1562\u001b[0m \u001b[32m━━━━━━━━━━━━━━━━━━━━\u001b[0m\u001b[37m\u001b[0m \u001b[1m0s\u001b[0m 63ms/step - accuracy: 0.9413 - loss: 0.2421\n",
            "Epoch 27: val_accuracy did not improve from 0.71870\n",
            "\u001b[1m1562/1562\u001b[0m \u001b[32m━━━━━━━━━━━━━━━━━━━━\u001b[0m\u001b[37m\u001b[0m \u001b[1m133s\u001b[0m 67ms/step - accuracy: 0.9413 - loss: 0.2421 - val_accuracy: 0.6859 - val_loss: 1.4738 - learning_rate: 5.0000e-04\n",
            "Epoch 28/50\n",
            "\u001b[1m   1/1562\u001b[0m \u001b[37m━━━━━━━━━━━━━━━━━━━━\u001b[0m \u001b[1m1:09\u001b[0m 44ms/step - accuracy: 1.0000 - loss: 0.1810\n",
            "Epoch 28: val_accuracy did not improve from 0.71870\n",
            "\u001b[1m1562/1562\u001b[0m \u001b[32m━━━━━━━━━━━━━━━━━━━━\u001b[0m\u001b[37m\u001b[0m \u001b[1m7s\u001b[0m 4ms/step - accuracy: 1.0000 - loss: 0.1810 - val_accuracy: 0.6977 - val_loss: 1.3995 - learning_rate: 5.0000e-04\n",
            "Epoch 29/50\n",
            "\u001b[1m1561/1562\u001b[0m \u001b[32m━━━━━━━━━━━━━━━━━━━\u001b[0m\u001b[37m━\u001b[0m \u001b[1m0s\u001b[0m 62ms/step - accuracy: 0.9534 - loss: 0.2089\n",
            "Epoch 29: val_accuracy did not improve from 0.71870\n",
            "\u001b[1m1562/1562\u001b[0m \u001b[32m━━━━━━━━━━━━━━━━━━━━\u001b[0m\u001b[37m\u001b[0m \u001b[1m102s\u001b[0m 65ms/step - accuracy: 0.9534 - loss: 0.2089 - val_accuracy: 0.7073 - val_loss: 1.4440 - learning_rate: 5.0000e-04\n",
            "Epoch 30/50\n",
            "\u001b[1m   1/1562\u001b[0m \u001b[37m━━━━━━━━━━━━━━━━━━━━\u001b[0m \u001b[1m46s\u001b[0m 30ms/step - accuracy: 0.8125 - loss: 0.4051\n",
            "Epoch 30: val_accuracy did not improve from 0.71870\n",
            "\u001b[1m1562/1562\u001b[0m \u001b[32m━━━━━━━━━━━━━━━━━━━━\u001b[0m\u001b[37m\u001b[0m \u001b[1m5s\u001b[0m 3ms/step - accuracy: 0.8125 - loss: 0.4051 - val_accuracy: 0.6920 - val_loss: 1.4710 - learning_rate: 5.0000e-04\n",
            "Epoch 31/50\n",
            "\u001b[1m1561/1562\u001b[0m \u001b[32m━━━━━━━━━━━━━━━━━━━\u001b[0m\u001b[37m━\u001b[0m \u001b[1m0s\u001b[0m 63ms/step - accuracy: 0.9620 - loss: 0.1825\n",
            "Epoch 31: val_accuracy did not improve from 0.71870\n",
            "\u001b[1m1562/1562\u001b[0m \u001b[32m━━━━━━━━━━━━━━━━━━━━\u001b[0m\u001b[37m\u001b[0m \u001b[1m144s\u001b[0m 69ms/step - accuracy: 0.9620 - loss: 0.1825 - val_accuracy: 0.6967 - val_loss: 1.5495 - learning_rate: 5.0000e-04\n",
            "Epoch 32/50\n",
            "\u001b[1m   1/1562\u001b[0m \u001b[37m━━━━━━━━━━━━━━━━━━━━\u001b[0m \u001b[1m41s\u001b[0m 26ms/step - accuracy: 0.9375 - loss: 0.1918\n",
            "Epoch 32: val_accuracy did not improve from 0.71870\n",
            "\u001b[1m1562/1562\u001b[0m \u001b[32m━━━━━━━━━━━━━━━━━━━━\u001b[0m\u001b[37m\u001b[0m \u001b[1m5s\u001b[0m 3ms/step - accuracy: 0.9375 - loss: 0.1918 - val_accuracy: 0.6973 - val_loss: 1.5467 - learning_rate: 5.0000e-04\n",
            "Epoch 33/50\n",
            "\u001b[1m1561/1562\u001b[0m \u001b[32m━━━━━━━━━━━━━━━━━━━\u001b[0m\u001b[37m━\u001b[0m \u001b[1m0s\u001b[0m 62ms/step - accuracy: 0.9701 - loss: 0.1620\n",
            "Epoch 33: val_accuracy did not improve from 0.71870\n",
            "\u001b[1m1562/1562\u001b[0m \u001b[32m━━━━━━━━━━━━━━━━━━━━\u001b[0m\u001b[37m\u001b[0m \u001b[1m102s\u001b[0m 66ms/step - accuracy: 0.9701 - loss: 0.1620 - val_accuracy: 0.7002 - val_loss: 1.6487 - learning_rate: 5.0000e-04\n",
            "Epoch 34/50\n",
            "\u001b[1m   1/1562\u001b[0m \u001b[37m━━━━━━━━━━━━━━━━━━━━\u001b[0m \u001b[1m1:36\u001b[0m 62ms/step - accuracy: 0.8750 - loss: 0.3942\n",
            "Epoch 34: val_accuracy did not improve from 0.71870\n",
            "\u001b[1m1562/1562\u001b[0m \u001b[32m━━━━━━━━━━━━━━━━━━━━\u001b[0m\u001b[37m\u001b[0m \u001b[1m7s\u001b[0m 5ms/step - accuracy: 0.8750 - loss: 0.3942 - val_accuracy: 0.6851 - val_loss: 1.6885 - learning_rate: 5.0000e-04\n",
            "Epoch 35/50\n",
            "\u001b[1m1562/1562\u001b[0m \u001b[32m━━━━━━━━━━━━━━━━━━━━\u001b[0m\u001b[37m\u001b[0m \u001b[1m0s\u001b[0m 63ms/step - accuracy: 0.9754 - loss: 0.1433\n",
            "Epoch 35: val_accuracy did not improve from 0.71870\n",
            "\u001b[1m1562/1562\u001b[0m \u001b[32m━━━━━━━━━━━━━━━━━━━━\u001b[0m\u001b[37m\u001b[0m \u001b[1m136s\u001b[0m 66ms/step - accuracy: 0.9754 - loss: 0.1433 - val_accuracy: 0.6995 - val_loss: 1.7354 - learning_rate: 5.0000e-04\n",
            "Epoch 36/50\n",
            "\u001b[1m   1/1562\u001b[0m \u001b[37m━━━━━━━━━━━━━━━━━━━━\u001b[0m \u001b[1m1:09\u001b[0m 44ms/step - accuracy: 0.9375 - loss: 0.1717\n",
            "Epoch 36: val_accuracy did not improve from 0.71870\n",
            "\u001b[1m1562/1562\u001b[0m \u001b[32m━━━━━━━━━━━━━━━━━━━━\u001b[0m\u001b[37m\u001b[0m \u001b[1m6s\u001b[0m 4ms/step - accuracy: 0.9375 - loss: 0.1717 - val_accuracy: 0.6952 - val_loss: 1.7577 - learning_rate: 5.0000e-04\n",
            "Epoch 37/50\n",
            "\u001b[1m1562/1562\u001b[0m \u001b[32m━━━━━━━━━━━━━━━━━━━━\u001b[0m\u001b[37m\u001b[0m \u001b[1m0s\u001b[0m 62ms/step - accuracy: 0.9799 - loss: 0.1276\n",
            "Epoch 37: val_accuracy did not improve from 0.71870\n",
            "\u001b[1m1562/1562\u001b[0m \u001b[32m━━━━━━━━━━━━━━━━━━━━\u001b[0m\u001b[37m\u001b[0m \u001b[1m136s\u001b[0m 66ms/step - accuracy: 0.9799 - loss: 0.1276 - val_accuracy: 0.6987 - val_loss: 1.7538 - learning_rate: 5.0000e-04\n",
            "Epoch 38/50\n",
            "\u001b[1m   1/1562\u001b[0m \u001b[37m━━━━━━━━━━━━━━━━━━━━\u001b[0m \u001b[1m1:20\u001b[0m 52ms/step - accuracy: 0.8750 - loss: 0.4142\n",
            "Epoch 38: val_accuracy did not improve from 0.71870\n",
            "\u001b[1m1562/1562\u001b[0m \u001b[32m━━━━━━━━━━━━━━━━━━━━\u001b[0m\u001b[37m\u001b[0m \u001b[1m6s\u001b[0m 4ms/step - accuracy: 0.8750 - loss: 0.4142 - val_accuracy: 0.6901 - val_loss: 1.8235 - learning_rate: 5.0000e-04\n",
            "Epoch 39/50\n",
            "\u001b[1m1562/1562\u001b[0m \u001b[32m━━━━━━━━━━━━━━━━━━━━\u001b[0m\u001b[37m\u001b[0m \u001b[1m0s\u001b[0m 62ms/step - accuracy: 0.9827 - loss: 0.1197\n",
            "Epoch 39: val_accuracy did not improve from 0.71870\n",
            "\u001b[1m1562/1562\u001b[0m \u001b[32m━━━━━━━━━━━━━━━━━━━━\u001b[0m\u001b[37m\u001b[0m \u001b[1m135s\u001b[0m 66ms/step - accuracy: 0.9827 - loss: 0.1197 - val_accuracy: 0.6987 - val_loss: 1.8573 - learning_rate: 5.0000e-04\n",
            "Epoch 40/50\n",
            "\u001b[1m   1/1562\u001b[0m \u001b[37m━━━━━━━━━━━━━━━━━━━━\u001b[0m \u001b[1m1:16\u001b[0m 49ms/step - accuracy: 1.0000 - loss: 0.0652\n",
            "Epoch 40: val_accuracy did not improve from 0.71870\n",
            "\u001b[1m1562/1562\u001b[0m \u001b[32m━━━━━━━━━━━━━━━━━━━━\u001b[0m\u001b[37m\u001b[0m \u001b[1m6s\u001b[0m 4ms/step - accuracy: 1.0000 - loss: 0.0652 - val_accuracy: 0.6992 - val_loss: 1.8633 - learning_rate: 5.0000e-04\n",
            "Epoch 41/50\n",
            "\u001b[1m1562/1562\u001b[0m \u001b[32m━━━━━━━━━━━━━━━━━━━━\u001b[0m\u001b[37m\u001b[0m \u001b[1m0s\u001b[0m 62ms/step - accuracy: 0.9865 - loss: 0.1060\n",
            "Epoch 41: val_accuracy did not improve from 0.71870\n",
            "\u001b[1m1562/1562\u001b[0m \u001b[32m━━━━━━━━━━━━━━━━━━━━\u001b[0m\u001b[37m\u001b[0m \u001b[1m102s\u001b[0m 65ms/step - accuracy: 0.9865 - loss: 0.1060 - val_accuracy: 0.6840 - val_loss: 1.9671 - learning_rate: 5.0000e-04\n",
            "Epoch 42/50\n",
            "\u001b[1m   1/1562\u001b[0m \u001b[37m━━━━━━━━━━━━━━━━━━━━\u001b[0m \u001b[1m40s\u001b[0m 26ms/step - accuracy: 1.0000 - loss: 0.0657\n",
            "Epoch 42: val_accuracy did not improve from 0.71870\n",
            "\u001b[1m1562/1562\u001b[0m \u001b[32m━━━━━━━━━━━━━━━━━━━━\u001b[0m\u001b[37m\u001b[0m \u001b[1m5s\u001b[0m 3ms/step - accuracy: 1.0000 - loss: 0.0657 - val_accuracy: 0.6856 - val_loss: 1.9586 - learning_rate: 5.0000e-04\n",
            "Epoch 43/50\n",
            "\u001b[1m1561/1562\u001b[0m \u001b[32m━━━━━━━━━━━━━━━━━━━\u001b[0m\u001b[37m━\u001b[0m \u001b[1m0s\u001b[0m 62ms/step - accuracy: 0.9866 - loss: 0.1023\n",
            "Epoch 43: val_accuracy did not improve from 0.71870\n",
            "\u001b[1m1562/1562\u001b[0m \u001b[32m━━━━━━━━━━━━━━━━━━━━\u001b[0m\u001b[37m\u001b[0m \u001b[1m106s\u001b[0m 68ms/step - accuracy: 0.9866 - loss: 0.1023 - val_accuracy: 0.6962 - val_loss: 1.9467 - learning_rate: 5.0000e-04\n",
            "Epoch 44/50\n",
            "\u001b[1m   1/1562\u001b[0m \u001b[37m━━━━━━━━━━━━━━━━━━━━\u001b[0m \u001b[1m47s\u001b[0m 31ms/step - accuracy: 1.0000 - loss: 0.0624\n",
            "Epoch 44: val_accuracy did not improve from 0.71870\n",
            "\u001b[1m1562/1562\u001b[0m \u001b[32m━━━━━━━━━━━━━━━━━━━━\u001b[0m\u001b[37m\u001b[0m \u001b[1m5s\u001b[0m 3ms/step - accuracy: 1.0000 - loss: 0.0624 - val_accuracy: 0.6971 - val_loss: 1.9455 - learning_rate: 5.0000e-04\n",
            "Epoch 45/50\n",
            "\u001b[1m1562/1562\u001b[0m \u001b[32m━━━━━━━━━━━━━━━━━━━━\u001b[0m\u001b[37m\u001b[0m \u001b[1m0s\u001b[0m 62ms/step - accuracy: 0.9895 - loss: 0.0952\n",
            "Epoch 45: val_accuracy did not improve from 0.71870\n",
            "\u001b[1m1562/1562\u001b[0m \u001b[32m━━━━━━━━━━━━━━━━━━━━\u001b[0m\u001b[37m\u001b[0m \u001b[1m138s\u001b[0m 69ms/step - accuracy: 0.9895 - loss: 0.0952 - val_accuracy: 0.6859 - val_loss: 2.2486 - learning_rate: 5.0000e-04\n",
            "Epoch 46/50\n",
            "\u001b[1m   1/1562\u001b[0m \u001b[37m━━━━━━━━━━━━━━━━━━━━\u001b[0m \u001b[1m41s\u001b[0m 26ms/step - accuracy: 1.0000 - loss: 0.0627\n",
            "Epoch 46: val_accuracy did not improve from 0.71870\n",
            "\u001b[1m1562/1562\u001b[0m \u001b[32m━━━━━━━━━━━━━━━━━━━━\u001b[0m\u001b[37m\u001b[0m \u001b[1m10s\u001b[0m 7ms/step - accuracy: 1.0000 - loss: 0.0627 - val_accuracy: 0.6851 - val_loss: 2.2458 - learning_rate: 5.0000e-04\n",
            "Epoch 47/50\n",
            "\u001b[1m1562/1562\u001b[0m \u001b[32m━━━━━━━━━━━━━━━━━━━━\u001b[0m\u001b[37m\u001b[0m \u001b[1m0s\u001b[0m 62ms/step - accuracy: 0.9900 - loss: 0.0917\n",
            "Epoch 47: val_accuracy did not improve from 0.71870\n",
            "\u001b[1m1562/1562\u001b[0m \u001b[32m━━━━━━━━━━━━━━━━━━━━\u001b[0m\u001b[37m\u001b[0m \u001b[1m126s\u001b[0m 65ms/step - accuracy: 0.9900 - loss: 0.0917 - val_accuracy: 0.6843 - val_loss: 2.1486 - learning_rate: 5.0000e-04\n",
            "Epoch 48/50\n",
            "\u001b[1m   1/1562\u001b[0m \u001b[37m━━━━━━━━━━━━━━━━━━━━\u001b[0m \u001b[1m47s\u001b[0m 30ms/step - accuracy: 1.0000 - loss: 0.0913\n",
            "Epoch 48: val_accuracy did not improve from 0.71870\n",
            "\u001b[1m1562/1562\u001b[0m \u001b[32m━━━━━━━━━━━━━━━━━━━━\u001b[0m\u001b[37m\u001b[0m \u001b[1m5s\u001b[0m 3ms/step - accuracy: 1.0000 - loss: 0.0913 - val_accuracy: 0.6858 - val_loss: 2.1867 - learning_rate: 5.0000e-04\n",
            "Epoch 49/50\n",
            "\u001b[1m1561/1562\u001b[0m \u001b[32m━━━━━━━━━━━━━━━━━━━\u001b[0m\u001b[37m━\u001b[0m \u001b[1m0s\u001b[0m 63ms/step - accuracy: 0.9893 - loss: 0.0890\n",
            "Epoch 49: val_accuracy did not improve from 0.71870\n",
            "\u001b[1m1562/1562\u001b[0m \u001b[32m━━━━━━━━━━━━━━━━━━━━\u001b[0m\u001b[37m\u001b[0m \u001b[1m138s\u001b[0m 66ms/step - accuracy: 0.9893 - loss: 0.0890 - val_accuracy: 0.6871 - val_loss: 2.2177 - learning_rate: 5.0000e-04\n",
            "Epoch 50/50\n",
            "\u001b[1m   1/1562\u001b[0m \u001b[37m━━━━━━━━━━━━━━━━━━━━\u001b[0m \u001b[1m40s\u001b[0m 26ms/step - accuracy: 1.0000 - loss: 0.0707\n",
            "Epoch 50: val_accuracy did not improve from 0.71870\n",
            "\u001b[1m1562/1562\u001b[0m \u001b[32m━━━━━━━━━━━━━━━━━━━━\u001b[0m\u001b[37m\u001b[0m \u001b[1m7s\u001b[0m 5ms/step - accuracy: 1.0000 - loss: 0.0707 - val_accuracy: 0.6872 - val_loss: 2.2028 - learning_rate: 5.0000e-04\n",
            "\u001b[1m79/79\u001b[0m \u001b[32m━━━━━━━━━━━━━━━━━━━━\u001b[0m\u001b[37m\u001b[0m \u001b[1m4s\u001b[0m 53ms/step - accuracy: 0.7271 - loss: 0.9177\n",
            "\u001b[1m79/79\u001b[0m \u001b[32m━━━━━━━━━━━━━━━━━━━━\u001b[0m\u001b[37m\u001b[0m \u001b[1m6s\u001b[0m 79ms/step - accuracy: 0.1195 - loss: 4.4382\n",
            "\n",
            "Test on normal: 71.870 loss: 0.925\n",
            "\n",
            "Test on trojan: 11.580 loss: 4.444\n"
          ]
        }
      ]
    },
    {
      "cell_type": "code",
      "source": [],
      "metadata": {
        "id": "iGomZzFBQpo6"
      },
      "execution_count": null,
      "outputs": []
    }
  ]
}